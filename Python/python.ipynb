{
 "cells": [
  {
   "cell_type": "markdown",
   "metadata": {},
   "source": [
    "Import Libraries & Data"
   ]
  },
  {
   "cell_type": "code",
   "execution_count": 6,
   "metadata": {},
   "outputs": [],
   "source": [
    "import pandas as pd\n",
    "import matplotlib.pyplot as plt\n",
    "import numpy as np"
   ]
  },
  {
   "cell_type": "code",
   "execution_count": 7,
   "metadata": {},
   "outputs": [],
   "source": [
    "df = pd.read_csv(r\"C:\\Users\\minhq\\Downloads\\DATA ANALYSIS\\Full Datasets for Projects\\Amazon Sale Report Project\\data\\cleaned_data.csv\", parse_dates = [\"Date\"])"
   ]
  },
  {
   "cell_type": "code",
   "execution_count": 8,
   "metadata": {},
   "outputs": [
    {
     "data": {
      "text/html": [
       "<div>\n",
       "<style scoped>\n",
       "    .dataframe tbody tr th:only-of-type {\n",
       "        vertical-align: middle;\n",
       "    }\n",
       "\n",
       "    .dataframe tbody tr th {\n",
       "        vertical-align: top;\n",
       "    }\n",
       "\n",
       "    .dataframe thead th {\n",
       "        text-align: right;\n",
       "    }\n",
       "</style>\n",
       "<table border=\"1\" class=\"dataframe\">\n",
       "  <thead>\n",
       "    <tr style=\"text-align: right;\">\n",
       "      <th></th>\n",
       "      <th>index</th>\n",
       "      <th>Order ID</th>\n",
       "      <th>Date</th>\n",
       "      <th>Status</th>\n",
       "      <th>Fulfilment</th>\n",
       "      <th>Sales Channel</th>\n",
       "      <th>ship-service-level</th>\n",
       "      <th>Style</th>\n",
       "      <th>SKU</th>\n",
       "      <th>Category</th>\n",
       "      <th>...</th>\n",
       "      <th>Qty</th>\n",
       "      <th>currency</th>\n",
       "      <th>Amount</th>\n",
       "      <th>ship_city</th>\n",
       "      <th>ship-state</th>\n",
       "      <th>ship-postal-code</th>\n",
       "      <th>ship-country</th>\n",
       "      <th>promotion-ids</th>\n",
       "      <th>B2B</th>\n",
       "      <th>fulfilled-by</th>\n",
       "    </tr>\n",
       "  </thead>\n",
       "  <tbody>\n",
       "    <tr>\n",
       "      <th>0</th>\n",
       "      <td>110791</td>\n",
       "      <td>406-5149188-9232359</td>\n",
       "      <td>2022-06-13</td>\n",
       "      <td>Shipped</td>\n",
       "      <td>Amazon</td>\n",
       "      <td>Amazon.in</td>\n",
       "      <td>Expedited</td>\n",
       "      <td>JNE3376</td>\n",
       "      <td>JNE3376-KR-XL</td>\n",
       "      <td>Kurta</td>\n",
       "      <td>...</td>\n",
       "      <td>1</td>\n",
       "      <td>INR</td>\n",
       "      <td>432.0</td>\n",
       "      <td>Bengaluru</td>\n",
       "      <td>Karnataka</td>\n",
       "      <td>560066.0</td>\n",
       "      <td>IN</td>\n",
       "      <td>None</td>\n",
       "      <td>False</td>\n",
       "      <td>Not Specified</td>\n",
       "    </tr>\n",
       "    <tr>\n",
       "      <th>1</th>\n",
       "      <td>61836</td>\n",
       "      <td>405-2996475-6588332</td>\n",
       "      <td>2022-05-21</td>\n",
       "      <td>Shipped</td>\n",
       "      <td>Amazon</td>\n",
       "      <td>Amazon.in</td>\n",
       "      <td>Expedited</td>\n",
       "      <td>JNE3376</td>\n",
       "      <td>JNE3376-KR-XL</td>\n",
       "      <td>Kurta</td>\n",
       "      <td>...</td>\n",
       "      <td>1</td>\n",
       "      <td>INR</td>\n",
       "      <td>432.0</td>\n",
       "      <td>Bengaluru</td>\n",
       "      <td>Karnataka</td>\n",
       "      <td>560043.0</td>\n",
       "      <td>IN</td>\n",
       "      <td>None</td>\n",
       "      <td>False</td>\n",
       "      <td>Not Specified</td>\n",
       "    </tr>\n",
       "    <tr>\n",
       "      <th>2</th>\n",
       "      <td>117150</td>\n",
       "      <td>408-1266602-2622706</td>\n",
       "      <td>2022-06-08</td>\n",
       "      <td>Shipped</td>\n",
       "      <td>Amazon</td>\n",
       "      <td>Amazon.in</td>\n",
       "      <td>Expedited</td>\n",
       "      <td>J0353</td>\n",
       "      <td>J0353-KR-XL</td>\n",
       "      <td>Kurta</td>\n",
       "      <td>...</td>\n",
       "      <td>1</td>\n",
       "      <td>INR</td>\n",
       "      <td>635.0</td>\n",
       "      <td>Bengaluru</td>\n",
       "      <td>Karnataka</td>\n",
       "      <td>560094.0</td>\n",
       "      <td>IN</td>\n",
       "      <td>None</td>\n",
       "      <td>False</td>\n",
       "      <td>Not Specified</td>\n",
       "    </tr>\n",
       "    <tr>\n",
       "      <th>3</th>\n",
       "      <td>117145</td>\n",
       "      <td>403-5456957-0341951</td>\n",
       "      <td>2022-06-08</td>\n",
       "      <td>Shipped</td>\n",
       "      <td>Amazon</td>\n",
       "      <td>Amazon.in</td>\n",
       "      <td>Expedited</td>\n",
       "      <td>JNE3368</td>\n",
       "      <td>JNE3368-KR-XL</td>\n",
       "      <td>Kurta</td>\n",
       "      <td>...</td>\n",
       "      <td>1</td>\n",
       "      <td>INR</td>\n",
       "      <td>471.0</td>\n",
       "      <td>Bengaluru</td>\n",
       "      <td>Karnataka</td>\n",
       "      <td>560059.0</td>\n",
       "      <td>IN</td>\n",
       "      <td>None</td>\n",
       "      <td>False</td>\n",
       "      <td>Not Specified</td>\n",
       "    </tr>\n",
       "    <tr>\n",
       "      <th>4</th>\n",
       "      <td>68777</td>\n",
       "      <td>403-3769681-0810727</td>\n",
       "      <td>2022-05-15</td>\n",
       "      <td>Shipped</td>\n",
       "      <td>Amazon</td>\n",
       "      <td>Amazon.in</td>\n",
       "      <td>Expedited</td>\n",
       "      <td>JNE3487</td>\n",
       "      <td>JNE3487-KR-XL</td>\n",
       "      <td>Kurta</td>\n",
       "      <td>...</td>\n",
       "      <td>1</td>\n",
       "      <td>INR</td>\n",
       "      <td>345.0</td>\n",
       "      <td>Bengaluru</td>\n",
       "      <td>Karnataka</td>\n",
       "      <td>560097.0</td>\n",
       "      <td>IN</td>\n",
       "      <td>None</td>\n",
       "      <td>False</td>\n",
       "      <td>Not Specified</td>\n",
       "    </tr>\n",
       "  </tbody>\n",
       "</table>\n",
       "<p>5 rows × 23 columns</p>\n",
       "</div>"
      ],
      "text/plain": [
       "    index             Order ID       Date   Status Fulfilment Sales Channel  \\\n",
       "0  110791  406-5149188-9232359 2022-06-13  Shipped     Amazon     Amazon.in   \n",
       "1   61836  405-2996475-6588332 2022-05-21  Shipped     Amazon     Amazon.in   \n",
       "2  117150  408-1266602-2622706 2022-06-08  Shipped     Amazon     Amazon.in   \n",
       "3  117145  403-5456957-0341951 2022-06-08  Shipped     Amazon     Amazon.in   \n",
       "4   68777  403-3769681-0810727 2022-05-15  Shipped     Amazon     Amazon.in   \n",
       "\n",
       "  ship-service-level    Style            SKU Category  ... Qty currency  \\\n",
       "0          Expedited  JNE3376  JNE3376-KR-XL    Kurta  ...   1      INR   \n",
       "1          Expedited  JNE3376  JNE3376-KR-XL    Kurta  ...   1      INR   \n",
       "2          Expedited    J0353    J0353-KR-XL    Kurta  ...   1      INR   \n",
       "3          Expedited  JNE3368  JNE3368-KR-XL    Kurta  ...   1      INR   \n",
       "4          Expedited  JNE3487  JNE3487-KR-XL    Kurta  ...   1      INR   \n",
       "\n",
       "  Amount  ship_city ship-state  ship-postal-code ship-country promotion-ids  \\\n",
       "0  432.0  Bengaluru  Karnataka          560066.0           IN          None   \n",
       "1  432.0  Bengaluru  Karnataka          560043.0           IN          None   \n",
       "2  635.0  Bengaluru  Karnataka          560094.0           IN          None   \n",
       "3  471.0  Bengaluru  Karnataka          560059.0           IN          None   \n",
       "4  345.0  Bengaluru  Karnataka          560097.0           IN          None   \n",
       "\n",
       "     B2B   fulfilled-by  \n",
       "0  False  Not Specified  \n",
       "1  False  Not Specified  \n",
       "2  False  Not Specified  \n",
       "3  False  Not Specified  \n",
       "4  False  Not Specified  \n",
       "\n",
       "[5 rows x 23 columns]"
      ]
     },
     "execution_count": 8,
     "metadata": {},
     "output_type": "execute_result"
    }
   ],
   "source": [
    "df.head()"
   ]
  },
  {
   "cell_type": "code",
   "execution_count": 9,
   "metadata": {},
   "outputs": [
    {
     "name": "stdout",
     "output_type": "stream",
     "text": [
      "<class 'pandas.core.frame.DataFrame'>\n",
      "RangeIndex: 74538 entries, 0 to 74537\n",
      "Data columns (total 23 columns):\n",
      " #   Column              Non-Null Count  Dtype         \n",
      "---  ------              --------------  -----         \n",
      " 0   index               74538 non-null  int64         \n",
      " 1   Order ID            74538 non-null  object        \n",
      " 2   Date                74538 non-null  datetime64[ns]\n",
      " 3   Status              74538 non-null  object        \n",
      " 4   Fulfilment          74538 non-null  object        \n",
      " 5   Sales Channel       74538 non-null  object        \n",
      " 6   ship-service-level  74538 non-null  object        \n",
      " 7   Style               74538 non-null  object        \n",
      " 8   SKU                 74538 non-null  object        \n",
      " 9   Category            74538 non-null  object        \n",
      " 10  Size                74538 non-null  object        \n",
      " 11  ASIN                74538 non-null  object        \n",
      " 12  Courier Status      70766 non-null  object        \n",
      " 13  Qty                 74538 non-null  int64         \n",
      " 14  currency            69979 non-null  object        \n",
      " 15  Amount              69979 non-null  float64       \n",
      " 16  ship_city           74536 non-null  object        \n",
      " 17  ship-state          74538 non-null  object        \n",
      " 18  ship-postal-code    74521 non-null  float64       \n",
      " 19  ship-country        74521 non-null  object        \n",
      " 20  promotion-ids       74538 non-null  object        \n",
      " 21  B2B                 74538 non-null  bool          \n",
      " 22  fulfilled-by        74538 non-null  object        \n",
      "dtypes: bool(1), datetime64[ns](1), float64(2), int64(2), object(17)\n",
      "memory usage: 12.6+ MB\n"
     ]
    }
   ],
   "source": [
    "df.info()"
   ]
  },
  {
   "cell_type": "markdown",
   "metadata": {},
   "source": [
    "Visualize Sales Trends"
   ]
  },
  {
   "cell_type": "code",
   "execution_count": 10,
   "metadata": {},
   "outputs": [],
   "source": [
    "df.set_index(\"Date\", inplace=True)\n",
    "df = df.sort_index()"
   ]
  },
  {
   "cell_type": "code",
   "execution_count": 11,
   "metadata": {},
   "outputs": [],
   "source": [
    "df_resampled = df.resample(\"W\")[\"Amount\"].sum() #Resample to group by weekly"
   ]
  },
  {
   "cell_type": "code",
   "execution_count": null,
   "metadata": {},
   "outputs": [
    {
     "name": "stdout",
     "output_type": "stream",
     "text": [
      "                Amount\n",
      "Date                  \n",
      "2022-05-01  1090798.19\n",
      "2022-05-08  6716700.42\n",
      "2022-05-15  4990092.28\n",
      "2022-05-22  4950965.53\n",
      "2022-05-29  5209968.40\n"
     ]
    }
   ],
   "source": [
    "df_resampled = df_resampled.to_frame().rename(columns={df_resampled.name: \"Amount\"})\n",
    "print(df_resampled.head())"
   ]
  },
  {
   "cell_type": "code",
   "execution_count": 24,
   "metadata": {},
   "outputs": [
    {
     "data": {
      "image/png": "[encoded data removed]",
      "text/plain": [
       "<Figure size 1000x600 with 1 Axes>"
      ]
     },
     "metadata": {},
     "output_type": "display_data"
    }
   ],
   "source": [
    "plt.figure(figsize=(10, 6))\n",
    "plt.plot(df_resampled.index, df_resampled[\"Amount\"], label=\"Sales\", color=\"red\")\n",
    "plt.xlabel(\"Date\")\n",
    "plt.ylabel(\"Sales\")\n",
    "plt.title(\"Sales Trend Over Time\")\n",
    "plt.legend()\n",
    "plt.show()\n"
   ]
  }
 ],
 "metadata": {
  "kernelspec": {
   "display_name": "Python 3",
   "language": "python",
   "name": "python3"
  },
  "language_info": {
   "codemirror_mode": {
    "name": "ipython",
    "version": 3
   },
   "file_extension": ".py",
   "mimetype": "text/x-python",
   "name": "python",
   "nbconvert_exporter": "python",
   "pygments_lexer": "ipython3",
   "version": "3.10.11"
  }
 },
 "nbformat": 4,
 "nbformat_minor": 2
}
